{
 "cells": [
  {
   "cell_type": "markdown",
   "metadata": {},
   "source": [
    "<div style=\"text-align:center\">\n",
    "    <h1 style=\"font-size: 40px; font-weight: bold; color: orange;\">WEB SCRAPING</h1>\n",
    "</div>\n"
   ]
  },
  {
   "cell_type": "markdown",
   "metadata": {},
   "source": [
    "<div>\n",
    "    <h1 style=\"font-size: 14px; font-weight: bold; color: white;\">BY:\n",
    "    <br> TARUN RAVEESH - AM.EN.U4CSE20016\n",
    "    <br> SHOAIB AKHTAR - AM.EN.U4CSE20163\n",
    "    <br> CHETAN ANAND - AM.EN.U4CSE20219 </h1>\n",
    "</div>\n"
   ]
  },
  {
   "cell_type": "code",
   "execution_count": 1,
   "metadata": {},
   "outputs": [],
   "source": [
    "import pandas as pd\n",
    "from random import randint\n",
    "from selenium import webdriver\n",
    "from time import sleep, strftime\n",
    "from IPython.display import display\n",
    "from selenium.webdriver.chrome.service import Service as ChromeService\n",
    "from selenium.webdriver.common.by import By\n",
    "from selenium.webdriver.support.ui import WebDriverWait\n",
    "from selenium.webdriver.support import expected_conditions as EC"
   ]
  },
  {
   "cell_type": "code",
   "execution_count": 2,
   "metadata": {},
   "outputs": [],
   "source": [
    "chromedriver_path = 'C:\\\\Users\\\\Tarun\\\\OneDrive\\\\Desktop\\\\Web Mining\\\\Chrome Driver\\\\chromedriver.exe'"
   ]
  },
  {
   "cell_type": "code",
   "execution_count": null,
   "metadata": {},
   "outputs": [],
   "source": [
    "service = ChromeService(executable_path=chromedriver_path)\n",
    "driver = webdriver.Chrome(service=service)"
   ]
  },
  {
   "cell_type": "code",
   "execution_count": null,
   "metadata": {},
   "outputs": [],
   "source": [
    "URL = 'https://www.kayak.co.in/flights/COK-BOM/2023-10-20?sort=bestflight_a'\n",
    "driver.get(URL)\n",
    "sleep(3)"
   ]
  },
  {
   "cell_type": "code",
   "execution_count": null,
   "metadata": {
    "scrolled": true
   },
   "outputs": [],
   "source": [
    "# Explicitly wait for the pop-up close button to be clickable\n",
    "try:\n",
    "    close_button = WebDriverWait(driver, 10).until(\n",
    "        EC.element_to_be_clickable((By.CLASS_NAME, 'bBPb-close'))\n",
    "    )\n",
    "    close_button.click()\n",
    "except:\n",
    "    print(\"Pop-up close button not found or couldn't be clicked\")"
   ]
  },
  {
   "cell_type": "code",
   "execution_count": null,
   "metadata": {},
   "outputs": [],
   "source": [
    "def more_flights(driver):\n",
    "    try:\n",
    "        show_more_button = WebDriverWait(driver, 10).until(\n",
    "            EC.element_to_be_clickable((By.XPATH, '//div[@class=\"ULvh-button show-more-button\"]'))\n",
    "        )\n",
    "        show_more_button.click()\n",
    "        print(\"More flights loaded successfully.\")\n",
    "    except:\n",
    "        print(\"Show more results button not found or couldn't be clicked.\")\n",
    "more_flights(driver)"
   ]
  },
  {
   "cell_type": "code",
   "execution_count": null,
   "metadata": {},
   "outputs": [],
   "source": [
    "def flight_data():\n",
    "    # Define XPaths for the required fields\n",
    "    xpath_airlines = \"//div[@class='J0g6-operator-text']\"\n",
    "    xpath_departure_time = \"//div[@class='vmXl vmXl-mod-variant-large']//span[1]\"\n",
    "    xpath_arrival_time = \"//div[@class='vmXl vmXl-mod-variant-large']//span[3]\"\n",
    "    class_layovers = \"JWEO-stops-text\"\n",
    "    class_duration = \"xdW8-mod-full-airport\"\n",
    "    xpath_ticket_type = \"//div[@class='aC3z-name']\"\n",
    "    xpath_price = \"//div[@class='f8F1-price-text-container']/div[@class='f8F1-price-text']\"\n",
    "    \n",
    "    # Use XPaths to extract data\n",
    "    airlines_elements = driver.find_elements(By.XPATH, xpath_airlines)\n",
    "    departure_times = driver.find_elements(By.XPATH, xpath_departure_time)\n",
    "    arrival_times = driver.find_elements(By.XPATH, xpath_arrival_time)\n",
    "    layovers = driver.find_elements(By.CLASS_NAME, class_layovers)\n",
    "    durations = driver.find_elements(By.CLASS_NAME, class_duration)\n",
    "    ticket_types = driver.find_elements(By.XPATH, xpath_ticket_type)\n",
    "    prices = driver.find_elements(By.XPATH, xpath_price)\n",
    "\n",
    "    # Initialize lists to store data\n",
    "    airlines_list = []\n",
    "    departure_times_list = [departure.text if departure.text else \"N/A\" for departure in departure_times]\n",
    "    arrival_times_list = [arrival.text if arrival.text else \"N/A\" for arrival in arrival_times]\n",
    "    layovers_list = []\n",
    "    durations_list = []\n",
    "    ticket_types_list = [ticket_type.text if ticket_type.text else \"N/A\" for ticket_type in ticket_types]\n",
    "    prices_list = [price.text if price.text else \"N/A\" for price in prices]\n",
    "\n",
    "    # Extract and format airline information\n",
    "    for element in airlines_elements:\n",
    "        airlines_text = element.text\n",
    "        if airlines_text:\n",
    "            airlines_list.append(airlines_text)\n",
    "\n",
    "    # Process layovers and durations\n",
    "    for layover in layovers:\n",
    "        layover_text = layover.text.strip()\n",
    "        if layover_text == \"direct\":\n",
    "            layovers_list.append(\"Direct\")\n",
    "        else:\n",
    "            layovers_list.append(\"Layover\")\n",
    "\n",
    "    for duration in durations:\n",
    "        duration_text = duration.text.strip()\n",
    "        durations_list.append(duration_text if duration_text else \"N/A\")\n",
    "\n",
    "    # Create a DataFrame with the extracted data\n",
    "    data = {\n",
    "        'Airlines': airlines_list,\n",
    "        'Departure Time': departure_times_list,\n",
    "        'Arrival Time': arrival_times_list,\n",
    "        'Layover': layovers_list,\n",
    "        'Duration': durations_list,\n",
    "        'Ticket Type': ticket_types_list,\n",
    "        'Price': prices_list\n",
    "    }\n",
    "\n",
    "    df = pd.DataFrame(data)\n",
    "    return df"
   ]
  },
  {
   "cell_type": "code",
   "execution_count": null,
   "metadata": {},
   "outputs": [],
   "source": [
    "def scrape_flights(city_from, city_to, travel_date):\n",
    "    \"\"\"City codes - it's the IATA codes!\n",
    "    Date format -  YYYY-MM-DD\"\"\"\n",
    "    URL = ('https://www.kayak.co.in/flights/' + city_from + '-' + city_to +\n",
    "             '/' + travel_date + '?sort=bestflight_a')\n",
    "    driver.get(URL)\n",
    "    sleep(randint(8, 10))\n",
    "    \n",
    "    # Sometimes a popup shows up, so we can use a try statement to check for it and close\n",
    "    try:\n",
    "        close_button = WebDriverWait(driver, 10).until(\n",
    "            EC.element_to_be_clickable((By.CLASS_NAME, 'bBPb-close'))\n",
    "        )\n",
    "        close_button.click()\n",
    "    except:\n",
    "        pass\n",
    "        \n",
    "    sleep(randint(20,25))\n",
    "    \n",
    "    # Best Flights\n",
    "    print('Fetching Best Flight Results.....')\n",
    "    print('Starting First Scrape.....')\n",
    "    df_flights_best = flight_data()\n",
    "    df_flights_best['Sort'] = 'Best Flights'\n",
    "    display(df_flights_best.head(3))\n",
    "    sleep(randint(20,25))\n",
    "    \n",
    "    # Quickest Flights\n",
    "    print('Switching to Quickest Flight Results.....')\n",
    "    quick_results = driver.find_element(By.XPATH, '//div[@aria-label=\"Quickest\"]')\n",
    "    quick_results.click()\n",
    "    sleep(randint(20,25))\n",
    "    \n",
    "    print('Starting Second Scrape.....')\n",
    "    df_flights_fast = flight_data()\n",
    "    df_flights_fast['Sort'] = 'Fast Flights'\n",
    "    display(df_flights_fast.head(3))\n",
    "    sleep(randint(20,25))\n",
    "    \n",
    "    # Cheapest Flights\n",
    "    print('Switching to Cheapest Flight Results.....')\n",
    "    cheap_results = driver.find_element(By.XPATH, '//div[@aria-label=\"Cheapest\"]')\n",
    "    cheap_results.click()\n",
    "    sleep(randint(20,25))\n",
    "    \n",
    "    print('Starting Third Scrape.....')\n",
    "    df_flights_cheap = flight_data()\n",
    "    df_flights_cheap['Sort'] = 'Cheap Flights'\n",
    "    display(df_flights_cheap.head(3))\n",
    "    sleep(randint(20,25))\n",
    "    \n",
    "    \n",
    "    # Saving a new dataframe as an excel file. the name is custom-made for your cities and dates\n",
    "    final_df = pd.concat([df_flights_best, df_flights_cheap, df_flights_fast])\n",
    "    final_df.to_excel('Data/{}_flights_{}-{}_for_{}.xlsx'.format(strftime(\"%Y%m%d-%H%M\"), city_from,\n",
    "                                                                    city_to, travel_date), index=False)\n",
    "    print('Excel Generated')"
   ]
  },
  {
   "cell_type": "code",
   "execution_count": null,
   "metadata": {
    "scrolled": false
   },
   "outputs": [],
   "source": [
    "city_from = input('From which city? ')\n",
    "city_to = input('Where to? ')\n",
    "travel_date = input('Search around which departure date? Please use YYYY-MM-DD format only ')\n",
    "\n",
    "scrape_flights(city_from, city_to, travel_date)\n",
    "print('Scraping completed at {}'.format(strftime(\"%Y-%m-%d - %H:%M\")))"
   ]
  },
  {
   "cell_type": "code",
   "execution_count": null,
   "metadata": {},
   "outputs": [],
   "source": [
    "# Save a screenshot!\n",
    "driver.save_screenshot('pythonscraping.png')"
   ]
  },
  {
   "cell_type": "code",
   "execution_count": null,
   "metadata": {},
   "outputs": [],
   "source": [
    "driver.quit()"
   ]
  }
 ],
 "metadata": {
  "kernelspec": {
   "display_name": "Python 3",
   "language": "python",
   "name": "python3"
  },
  "language_info": {
   "codemirror_mode": {
    "name": "ipython",
    "version": 3
   },
   "file_extension": ".py",
   "mimetype": "text/x-python",
   "name": "python",
   "nbconvert_exporter": "python",
   "pygments_lexer": "ipython3",
   "version": "3.10.12"
  }
 },
 "nbformat": 4,
 "nbformat_minor": 2
}
